{
 "cells": [
  {
   "cell_type": "code",
   "execution_count": 1,
   "metadata": {},
   "outputs": [
    {
     "name": "stdout",
     "output_type": "stream",
     "text": [
      "0\n",
      "1\n",
      "6\n",
      "2\n",
      "6\n"
     ]
    }
   ],
   "source": [
    "# Q4\n",
    "print(12 % 6)\n",
    "print(153 % 4)\n",
    "print(656 % 10)\n",
    "print(42 % 5)\n",
    "print(111 % 7)\n"
   ]
  },
  {
   "cell_type": "code",
   "execution_count": 3,
   "metadata": {},
   "outputs": [
    {
     "name": "stdout",
     "output_type": "stream",
     "text": [
      "4.0\n",
      "3.0\n",
      "-2.0\n",
      "2.9999999999999996\n",
      "-4.0\n",
      "4.605170185988092\n",
      "1.0\n",
      "0.0\n",
      "-1.0\n"
     ]
    }
   ],
   "source": [
    "import numpy as np\n",
    "import math\n",
    "\n",
    "print(math.log(16,2))\n",
    "print(math.log(27,3))\n",
    "print(math.log(1/25, 5))\n",
    "print(math.log(8/27, 2/3))\n",
    "print(math.log(16, 1/2))\n",
    "print(math.log(100))\n",
    "print(math.log(4,4))\n",
    "print(math.log(1,7))\n",
    "print(np.math.log(1/math.e))\n",
    "\n",
    "\n"
   ]
  }
 ],
 "metadata": {
  "kernelspec": {
   "display_name": "Python 3.10.7 64-bit",
   "language": "python",
   "name": "python3"
  },
  "language_info": {
   "codemirror_mode": {
    "name": "ipython",
    "version": 3
   },
   "file_extension": ".py",
   "mimetype": "text/x-python",
   "name": "python",
   "nbconvert_exporter": "python",
   "pygments_lexer": "ipython3",
   "version": "3.10.7"
  },
  "orig_nbformat": 4,
  "vscode": {
   "interpreter": {
    "hash": "369f2c481f4da34e4445cda3fffd2e751bd1c4d706f27375911949ba6bb62e1c"
   }
  }
 },
 "nbformat": 4,
 "nbformat_minor": 2
}
