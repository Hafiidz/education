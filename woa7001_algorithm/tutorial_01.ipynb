{
 "cells": [
  {
   "cell_type": "markdown",
   "metadata": {},
   "source": [
    "\n",
    "\n",
    "# Q1 Number and string format\n",
    "1. Assign a String variable s to a greeting statement. Then print s.\n",
    "2. Assign a Character variable a to a character. Then print a.\n",
    "3. Assign an Integer variable x to an integer number. Then print x.\n",
    "4. Assign a Double variable y to a Double number. Then print y.\n",
    "5. Assign a Float variable z to a float number. Then print z.\n",
    "6. Assign an Integer variable x Then print x."
   ]
  },
  {
   "cell_type": "code",
   "execution_count": 1,
   "metadata": {},
   "outputs": [
    {
     "name": "stdout",
     "output_type": "stream",
     "text": [
      "Hi Class\n"
     ]
    }
   ],
   "source": [
    "# 1.1\n",
    "s = \"Hi Class\"\n",
    "print(s)\n"
   ]
  },
  {
   "cell_type": "code",
   "execution_count": 2,
   "metadata": {},
   "outputs": [
    {
     "name": "stdout",
     "output_type": "stream",
     "text": [
      "a\n"
     ]
    }
   ],
   "source": [
    "# 1.2\n",
    "a = chr(97)\n",
    "print(a)"
   ]
  },
  {
   "cell_type": "code",
   "execution_count": 3,
   "metadata": {},
   "outputs": [
    {
     "name": "stdout",
     "output_type": "stream",
     "text": [
      "1\n"
     ]
    }
   ],
   "source": [
    "# 1.3\n",
    "x = 1\n",
    "print(x)"
   ]
  },
  {
   "cell_type": "code",
   "execution_count": 7,
   "metadata": {},
   "outputs": [
    {
     "name": "stdout",
     "output_type": "stream",
     "text": [
      "10.0\n"
     ]
    }
   ],
   "source": [
    "# 1.4\n",
    "y = 10.00\n",
    "print(y)"
   ]
  },
  {
   "cell_type": "code",
   "execution_count": 6,
   "metadata": {},
   "outputs": [
    {
     "name": "stdout",
     "output_type": "stream",
     "text": [
      "1.0\n"
     ]
    }
   ],
   "source": [
    "# 1.5\n",
    "z = 1.0\n",
    "print(z)"
   ]
  },
  {
   "cell_type": "code",
   "execution_count": 8,
   "metadata": {},
   "outputs": [
    {
     "name": "stdout",
     "output_type": "stream",
     "text": [
      "4\n"
     ]
    }
   ],
   "source": [
    "# 1.6\n",
    "x = 4\n",
    "print(x)\n"
   ]
  },
  {
   "cell_type": "markdown",
   "metadata": {},
   "source": [
    "# Q2 Manipulating Numbers\n",
    "Given an integer, a=123456789\n",
    "1. Print the binary number for a\n",
    "2. Print the the integer ax10,ax100, a+100, a%10, a%100, a÷10, a÷100\n",
    "3. Print the binary number a after shifting by 1, 2, and 4 to the left. Print the numbers in\n",
    "decimal. Explain the result.\n",
    "4. Print the binary number a after shifting by 1, 2 and 4 to the right. Print the numbers in\n",
    "decimal. Explain the result."
   ]
  },
  {
   "cell_type": "code",
   "execution_count": 9,
   "metadata": {},
   "outputs": [
    {
     "name": "stdout",
     "output_type": "stream",
     "text": [
      "0b111010110111100110100010101\n"
     ]
    }
   ],
   "source": [
    "# 2.1\n",
    "a=123456789\n",
    "a_bin = bin(a)\n",
    "\n",
    "print(a_bin)"
   ]
  },
  {
   "cell_type": "code",
   "execution_count": 12,
   "metadata": {},
   "outputs": [
    {
     "name": "stdout",
     "output_type": "stream",
     "text": [
      "1234567890\n",
      "12345678900\n",
      "123456889\n",
      "9\n",
      "89\n",
      "12345678\n",
      "1234567\n"
     ]
    }
   ],
   "source": [
    "# 2.2\n",
    "print(a*10)\n",
    "print(a*100)\n",
    "print(a+100)\n",
    "print(a%10)\n",
    "print(a%100)\n",
    "print(int(a/10))\n",
    "print(int(a/100))\n"
   ]
  },
  {
   "cell_type": "code",
   "execution_count": 19,
   "metadata": {},
   "outputs": [
    {
     "name": "stdout",
     "output_type": "stream",
     "text": [
      "246913578\n",
      "493827156\n",
      "1975308624\n"
     ]
    }
   ],
   "source": [
    "# 2.3\n",
    "print(a<<1)\n",
    "print(a<<2)\n",
    "print(a<<4)"
   ]
  },
  {
   "cell_type": "code",
   "execution_count": 23,
   "metadata": {},
   "outputs": [
    {
     "name": "stdout",
     "output_type": "stream",
     "text": [
      "123456789\n",
      "246913578\n",
      "493827156\n",
      "1975308624\n"
     ]
    }
   ],
   "source": [
    "print(int('111010110111100110100010101', 2))\n",
    "print(int('1110101101111001101000101010', 2))\n",
    "print(int('11101011011110011010001010100', 2))\n",
    "print(int('1110101101111001101000101010000', 2))\n"
   ]
  },
  {
   "cell_type": "markdown",
   "metadata": {},
   "source": [
    "### Explanation\n",
    "<br>\n",
    "a_bin = 111010110111100110100010101\n",
    "<br>\n",
    "shift 1 to the left = 1110101101111001101000101010, which is 246913578 in decimal\n",
    "<br>\n",
    "shift 2 to the left = 11101011011110011010001010100, which is 493827156 in decimal\n",
    "<br>\n",
    "shift 4 to the left = 1110101101111001101000101010000, which is 1975308624 in decimal"
   ]
  },
  {
   "cell_type": "code",
   "execution_count": 24,
   "metadata": {},
   "outputs": [
    {
     "name": "stdout",
     "output_type": "stream",
     "text": [
      "61728394\n",
      "30864197\n",
      "7716049\n"
     ]
    }
   ],
   "source": [
    "# 2.4\n",
    "print(a >> 1)\n",
    "print(a >> 2)\n",
    "print(a >> 4)\n"
   ]
  },
  {
   "cell_type": "code",
   "execution_count": 25,
   "metadata": {},
   "outputs": [
    {
     "name": "stdout",
     "output_type": "stream",
     "text": [
      "123456789\n",
      "61728394\n",
      "30864197\n",
      "7716049\n"
     ]
    }
   ],
   "source": [
    "print(int('111010110111100110100010101', 2))\n",
    "print(int('11101011011110011010001010', 2))\n",
    "print(int('1110101101111001101000101', 2))\n",
    "print(int('11101011011110011010001', 2))\n"
   ]
  },
  {
   "cell_type": "markdown",
   "metadata": {},
   "source": [
    "### Explanation\n",
    "<br>\n",
    "a_bin = 111010110111100110100010101\n",
    "<br>\n",
    "shift 1 to the right = 11101011011110011010001010, which is 61728394 in decimal\n",
    "<br>\n",
    "shift 2 to the right = 1110101101111001101000101, which is 30864197 in decimal\n",
    "<br>\n",
    "shift 4 to the right = 11101011011110011010001, which is 7716049 in decimal"
   ]
  },
  {
   "cell_type": "markdown",
   "metadata": {},
   "source": [
    "# Q3 Manipulating Strings\n",
    "Given a string s=”assalamu’alaikum”\n",
    "1. Print the string s.\n",
    "2. Print the first character in s.\n",
    "3. Print the second character in s.\n",
    "4. Print the last character in s.\n",
    "5. Print the second last character in s.\n",
    "6. Print the characters one to three in s.\n",
    "7. Print the character 5 to the last in s. >>lamu'alaikum\n",
    "8. Print the string s backwards. >> mukiala'umalassa\n",
    "9. Print the the string s excluding the last 3 characters in s and add the string\n",
    "“ka”\n",
    "10. Print a new string by adding the string “Ahlan” to the last 8 characters in s."
   ]
  },
  {
   "cell_type": "code",
   "execution_count": 27,
   "metadata": {},
   "outputs": [
    {
     "name": "stdout",
     "output_type": "stream",
     "text": [
      "assalamu’alaikum\n"
     ]
    }
   ],
   "source": [
    "# 3.1\n",
    "s=\"assalamu’alaikum\"\n",
    "print(s)"
   ]
  },
  {
   "cell_type": "code",
   "execution_count": 38,
   "metadata": {},
   "outputs": [
    {
     "name": "stdout",
     "output_type": "stream",
     "text": [
      "a\n",
      "s\n",
      "m\n",
      "u\n",
      "ass\n",
      "lamu’alaikum\n",
      "mukiala’umalassa\n",
      "assalamu’alaika\n",
      "ahlan’alaikum\n"
     ]
    }
   ],
   "source": [
    "# 3.2 first char\n",
    "print(s[0])\n",
    "# 3.3 second char\n",
    "print(s[1]) \n",
    "# 3.4 last char\n",
    "print(s[-1])\n",
    "# 3.5 second last char\n",
    "print(s[-2])\n",
    "# 3.6 char one to three\n",
    "print(s[0:3])\n",
    "# 3.7 char 5 to the last\n",
    "print(s[4:])\n",
    "# 3.8 backwards\n",
    "print(s[::-1])\n",
    "# 3.9 exclude last 3 strings and add \"ka\"\n",
    "print(s[:-3]+\"ka\")\n",
    "# 3.10 \n",
    "print(\"ahlan\"+s[-8:])"
   ]
  },
  {
   "cell_type": "markdown",
   "metadata": {},
   "source": [
    "# Q4 DECOMPOSITION: Array/ List as data structure\n",
    "<br>\n",
    "Given an array mylist = [1, 2, 3, 4, 5, 6]\n",
    "<br>\n",
    "\n",
    "1. Print the length of the array\n",
    "2. Print the first element in the array\n",
    "3. Change the second element in the array to number 10, then print the whole array\n",
    "4. Print each element in the array using a for loop\n",
    "5. Print each element in the array using a while loop\n",
    "6. Shift the array element to the right while the last element moved to the first position\n",
    "7. Shift the array element to the left while the first element moved to the last position"
   ]
  },
  {
   "cell_type": "markdown",
   "metadata": {},
   "source": []
  }
 ],
 "metadata": {
  "kernelspec": {
   "display_name": "Python 3.10.7 64-bit",
   "language": "python",
   "name": "python3"
  },
  "language_info": {
   "codemirror_mode": {
    "name": "ipython",
    "version": 3
   },
   "file_extension": ".py",
   "mimetype": "text/x-python",
   "name": "python",
   "nbconvert_exporter": "python",
   "pygments_lexer": "ipython3",
   "version": "3.10.7"
  },
  "orig_nbformat": 4,
  "vscode": {
   "interpreter": {
    "hash": "369f2c481f4da34e4445cda3fffd2e751bd1c4d706f27375911949ba6bb62e1c"
   }
  }
 },
 "nbformat": 4,
 "nbformat_minor": 2
}
