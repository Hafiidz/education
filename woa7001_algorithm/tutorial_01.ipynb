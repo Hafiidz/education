{
 "cells": [
  {
   "cell_type": "markdown",
   "metadata": {},
   "source": [
    "\n",
    "\n",
    "#Number and string format\n",
    "1. Assign a String variable s to a greeting statement. Then print s.\n",
    "2. Assign a Character variable a to a character. Then print a.\n",
    "3. Assign an Integer variable x to an integer number. Then print x.\n",
    "4. Assign a Double variable y to a Double number. Then print y.\n",
    "5. Assign a Float variable z to a float number. Then print z.\n",
    "6. Assign an Integer variable x Then print x."
   ]
  },
  {
   "cell_type": "code",
   "execution_count": 1,
   "metadata": {},
   "outputs": [
    {
     "name": "stdout",
     "output_type": "stream",
     "text": [
      "Hi Class\n"
     ]
    }
   ],
   "source": [
    "# 1.1\n",
    "s = \"Hi Class\"\n",
    "print(s)\n"
   ]
  },
  {
   "cell_type": "code",
   "execution_count": 2,
   "metadata": {},
   "outputs": [
    {
     "name": "stdout",
     "output_type": "stream",
     "text": [
      "a\n"
     ]
    }
   ],
   "source": [
    "# 1.2\n",
    "a = chr(97)\n",
    "print(a)"
   ]
  },
  {
   "cell_type": "code",
   "execution_count": 3,
   "metadata": {},
   "outputs": [
    {
     "name": "stdout",
     "output_type": "stream",
     "text": [
      "1\n"
     ]
    }
   ],
   "source": [
    "# 1.3\n",
    "x = 1\n",
    "print(x)"
   ]
  },
  {
   "cell_type": "code",
   "execution_count": 7,
   "metadata": {},
   "outputs": [
    {
     "name": "stdout",
     "output_type": "stream",
     "text": [
      "10.0\n"
     ]
    }
   ],
   "source": [
    "# 1.4\n",
    "y = 10.00\n",
    "print(y)"
   ]
  },
  {
   "cell_type": "code",
   "execution_count": 6,
   "metadata": {},
   "outputs": [
    {
     "name": "stdout",
     "output_type": "stream",
     "text": [
      "1.0\n"
     ]
    }
   ],
   "source": [
    "# 1.5\n",
    "z = 1.0\n",
    "print(z)"
   ]
  },
  {
   "cell_type": "code",
   "execution_count": 8,
   "metadata": {},
   "outputs": [
    {
     "name": "stdout",
     "output_type": "stream",
     "text": [
      "4\n"
     ]
    }
   ],
   "source": [
    "# 1.6\n",
    "x = 4\n",
    "print(x)\n"
   ]
  },
  {
   "cell_type": "markdown",
   "metadata": {},
   "source": [
    "# Manipulating Numbers\n",
    "Given an integer, a=123456789\n",
    "1. Print the binary number for a\n",
    "2. Print the the integer ax10,ax100, a+100, a%10, a%100, a÷10, a÷100\n",
    "3. Print the binary number a after shifting by 1, 2, and 4 to the left. Print the numbers in\n",
    "decimal. Explain the result.\n",
    "4. Print the binary number a after shifting by 1, 2 and 4 to the right. Print the numbers in\n",
    "decimal. Explain the result."
   ]
  },
  {
   "cell_type": "code",
   "execution_count": 9,
   "metadata": {},
   "outputs": [
    {
     "name": "stdout",
     "output_type": "stream",
     "text": [
      "0b111010110111100110100010101\n"
     ]
    }
   ],
   "source": [
    "# 2.1\n",
    "a=123456789\n",
    "a_bin = bin(a)\n",
    "\n",
    "print(a_bin)"
   ]
  },
  {
   "cell_type": "code",
   "execution_count": 12,
   "metadata": {},
   "outputs": [
    {
     "name": "stdout",
     "output_type": "stream",
     "text": [
      "1234567890\n",
      "12345678900\n",
      "123456889\n",
      "9\n",
      "89\n",
      "12345678\n",
      "1234567\n"
     ]
    }
   ],
   "source": [
    "# 2.2\n",
    "print(a*10)\n",
    "print(a*100)\n",
    "print(a+100)\n",
    "print(a%10)\n",
    "print(a%100)\n",
    "print(int(a/10))\n",
    "print(int(a/100))\n"
   ]
  },
  {
   "cell_type": "code",
   "execution_count": 19,
   "metadata": {},
   "outputs": [
    {
     "name": "stdout",
     "output_type": "stream",
     "text": [
      "246913578\n",
      "493827156\n",
      "1975308624\n"
     ]
    }
   ],
   "source": [
    "# 2.3\n",
    "print(a<<1)\n",
    "print(a<<2)\n",
    "print(a<<4)"
   ]
  },
  {
   "cell_type": "code",
   "execution_count": 23,
   "metadata": {},
   "outputs": [
    {
     "name": "stdout",
     "output_type": "stream",
     "text": [
      "123456789\n",
      "246913578\n",
      "493827156\n",
      "1975308624\n"
     ]
    }
   ],
   "source": [
    "print(int('111010110111100110100010101', 2))\n",
    "print(int('1110101101111001101000101010', 2))\n",
    "print(int('11101011011110011010001010100', 2))\n",
    "print(int('1110101101111001101000101010000', 2))\n"
   ]
  },
  {
   "cell_type": "markdown",
   "metadata": {},
   "source": [
    "# Explanation\n",
    "<br>\n",
    "a_bin = 111010110111100110100010101\n",
    "<br>\n",
    "shift 1 to the left = 1110101101111001101000101010, which is 246913578 in decimal\n",
    "<br>\n",
    "shift 2 to the left = 11101011011110011010001010100, which is 493827156 in decimal\n",
    "<br>\n",
    "shift 4 to the left = 1110101101111001101000101010000, which is 1975308624 in decimal"
   ]
  },
  {
   "cell_type": "code",
   "execution_count": 24,
   "metadata": {},
   "outputs": [
    {
     "name": "stdout",
     "output_type": "stream",
     "text": [
      "61728394\n",
      "30864197\n",
      "7716049\n"
     ]
    }
   ],
   "source": [
    "# 2.4\n",
    "print(a >> 1)\n",
    "print(a >> 2)\n",
    "print(a >> 4)\n"
   ]
  },
  {
   "cell_type": "code",
   "execution_count": 25,
   "metadata": {},
   "outputs": [
    {
     "name": "stdout",
     "output_type": "stream",
     "text": [
      "123456789\n",
      "61728394\n",
      "30864197\n",
      "7716049\n"
     ]
    }
   ],
   "source": [
    "print(int('111010110111100110100010101', 2))\n",
    "print(int('11101011011110011010001010', 2))\n",
    "print(int('1110101101111001101000101', 2))\n",
    "print(int('11101011011110011010001', 2))\n"
   ]
  },
  {
   "cell_type": "markdown",
   "metadata": {},
   "source": [
    "# Explanation\n",
    "<br>\n",
    "a_bin = 111010110111100110100010101\n",
    "<br>\n",
    "shift 1 to the right = 11101011011110011010001010, which is 61728394 in decimal\n",
    "<br>\n",
    "shift 2 to the right = 1110101101111001101000101, which is 30864197 in decimal\n",
    "<br>\n",
    "shift 4 to the right = 11101011011110011010001, which is 7716049 in decimal"
   ]
  },
  {
   "cell_type": "code",
   "execution_count": null,
   "metadata": {},
   "outputs": [],
   "source": []
  }
 ],
 "metadata": {
  "kernelspec": {
   "display_name": "Python 3.10.7 64-bit",
   "language": "python",
   "name": "python3"
  },
  "language_info": {
   "codemirror_mode": {
    "name": "ipython",
    "version": 3
   },
   "file_extension": ".py",
   "mimetype": "text/x-python",
   "name": "python",
   "nbconvert_exporter": "python",
   "pygments_lexer": "ipython3",
   "version": "3.10.7"
  },
  "orig_nbformat": 4,
  "vscode": {
   "interpreter": {
    "hash": "369f2c481f4da34e4445cda3fffd2e751bd1c4d706f27375911949ba6bb62e1c"
   }
  }
 },
 "nbformat": 4,
 "nbformat_minor": 2
}
